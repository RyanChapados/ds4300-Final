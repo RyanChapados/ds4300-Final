{
 "cells": [
  {
   "cell_type": "code",
   "execution_count": 1,
   "id": "a55cb160",
   "metadata": {},
   "outputs": [],
   "source": [
    "import pandas as pd"
   ]
  },
  {
   "cell_type": "code",
   "execution_count": 2,
   "id": "e3086b0b",
   "metadata": {},
   "outputs": [],
   "source": [
    "bu = pd.read_csv(\"yelp_business.csv\")"
   ]
  },
  {
   "cell_type": "code",
   "execution_count": 3,
   "id": "91ff2ab0",
   "metadata": {},
   "outputs": [],
   "source": [
    "# Removes all values that are not in Santa Barbara\n",
    "bu = bu[bu[\"city\"] == \"Santa Barbara\"]"
   ]
  },
  {
   "cell_type": "code",
   "execution_count": 4,
   "id": "41214ba9",
   "metadata": {},
   "outputs": [],
   "source": [
    "# Removes all values that are not restaurants\n",
    "bu[\"categories\"] = bu[\"categories\"].astype(\"str\")\n",
    "bu[\"categories\"] = bu[\"categories\"].apply(lambda x: set(x.split(\", \")))\n",
    "\n",
    "word_list = [\"Restaurants\", \"Food\", \"Restaurant\"]\n",
    "bu[\"categories\"] = bu[\"categories\"].apply(lambda x: x.intersection(word_list))\n",
    "bu = bu[bu[\"categories\"] != set()]"
   ]
  },
  {
   "cell_type": "code",
   "execution_count": 5,
   "id": "a04a6f66",
   "metadata": {},
   "outputs": [],
   "source": [
    "# Removes all values that are not open\n",
    "bu = bu[bu[\"is_open\"] == 1]"
   ]
  },
  {
   "cell_type": "code",
   "execution_count": 6,
   "id": "5f6930e3",
   "metadata": {},
   "outputs": [],
   "source": [
    "# Drops unnessescary columns and does some formatting \n",
    "bu = bu.drop(columns=['_id', 'city', 'is_open', 'state', 'categories'])\n",
    "bu[\"attributes.RestaurantsTakeOut\"].fillna(\"False\", inplace = True)\n",
    "bu[\"attributes.RestaurantsTakeOut\"] = bu[\"attributes.RestaurantsTakeOut\"].replace(\"None\", \"False\")\n",
    "bu = bu.rename(columns={\"attributes.RestaurantsTakeOut\":\"take_out\"})"
   ]
  },
  {
   "cell_type": "code",
   "execution_count": 7,
   "id": "5c56e53f",
   "metadata": {},
   "outputs": [],
   "source": [
    "# Reads the reviews csv\n",
    "re = pd.read_csv(\"yelp_review.csv\")"
   ]
  },
  {
   "cell_type": "code",
   "execution_count": 8,
   "id": "2beea246",
   "metadata": {},
   "outputs": [],
   "source": [
    "# Make the st series which is indexed by tuples of business id and star value eg (\"thisisanid\", 1)\n",
    "re = pd.merge(bu, re, how ='inner', on =['business_id']).drop(columns=[\"address\", \"take_out\", \"latitude\", \"longitude\", \"name\", \n",
    "                                                               \"review_count\", \"stars_x\"]).rename(columns={\"stars_y\":\"stars\"})\n",
    "st = re.groupby([\"business_id\", \"stars\"]).count()['review_id']"
   ]
  },
  {
   "cell_type": "code",
   "execution_count": 31,
   "id": "e5fb2c01",
   "metadata": {},
   "outputs": [],
   "source": [
    "# Iterates through st and makes lists of star values, and adds them to the dictionary with the business id as the code\n",
    "# stars[\"thisisanid\"] = [0,0,0,10,50] is a for a business with id \"thisisanid\" that got 0 1,2, and 3 star reviews, 10 4 star and 50 5 star\n",
    "stars = {}\n",
    "for key in st.index:\n",
    "    if key[0] not in stars:\n",
    "        stars[key[0]] = [0,0,0,0,0]\n",
    "\n",
    "    stars[key[0]][key[1]-1] = st[key]"
   ]
  },
  {
   "cell_type": "code",
   "execution_count": 33,
   "id": "e740396e",
   "metadata": {},
   "outputs": [],
   "source": [
    "star_list = list(stars.values())\n",
    "\n",
    "for i in range(len(star_list)):\n",
    "    star_sum = 0\n",
    "    for star_val in range(len(star_list[i])):\n",
    "        star_sum += (star_val + 1) * star_list[i][star_val]\n",
    "        \n",
    "    star_list[i] = star_sum/sum(star_list[i])"
   ]
  },
  {
   "cell_type": "code",
   "execution_count": 17,
   "id": "6c13f26b",
   "metadata": {},
   "outputs": [],
   "source": [
    "# sorts bu\n",
    "bu = bu.sort_values(by='business_id')"
   ]
  },
  {
   "cell_type": "code",
   "execution_count": 35,
   "id": "4953dbf7",
   "metadata": {},
   "outputs": [],
   "source": [
    "# adds star/date lists to bu\n",
    "bu['stars'] = star_list"
   ]
  },
  {
   "cell_type": "code",
   "execution_count": 39,
   "id": "fb81e331",
   "metadata": {},
   "outputs": [],
   "source": [
    "# writes bu to the csv\n",
    "bu.to_csv('yelp_business_clean.csv', index=False)"
   ]
  },
  {
   "cell_type": "code",
   "execution_count": 36,
   "id": "68bd8cf8",
   "metadata": {},
   "outputs": [
    {
     "data": {
      "text/html": [
       "<div>\n",
       "<style scoped>\n",
       "    .dataframe tbody tr th:only-of-type {\n",
       "        vertical-align: middle;\n",
       "    }\n",
       "\n",
       "    .dataframe tbody tr th {\n",
       "        vertical-align: top;\n",
       "    }\n",
       "\n",
       "    .dataframe thead th {\n",
       "        text-align: right;\n",
       "    }\n",
       "</style>\n",
       "<table border=\"1\" class=\"dataframe\">\n",
       "  <thead>\n",
       "    <tr style=\"text-align: right;\">\n",
       "      <th></th>\n",
       "      <th>address</th>\n",
       "      <th>take_out</th>\n",
       "      <th>business_id</th>\n",
       "      <th>latitude</th>\n",
       "      <th>longitude</th>\n",
       "      <th>name</th>\n",
       "      <th>review_count</th>\n",
       "      <th>stars</th>\n",
       "    </tr>\n",
       "  </thead>\n",
       "  <tbody>\n",
       "    <tr>\n",
       "      <th>9418</th>\n",
       "      <td>1012 State St</td>\n",
       "      <td>True</td>\n",
       "      <td>-3AooxIkg38UyUdlz5oXdw</td>\n",
       "      <td>34.421931</td>\n",
       "      <td>-119.702185</td>\n",
       "      <td>Chase Restaurant</td>\n",
       "      <td>436</td>\n",
       "      <td>3.144144</td>\n",
       "    </tr>\n",
       "    <tr>\n",
       "      <th>76606</th>\n",
       "      <td>2036 Cliff Dr</td>\n",
       "      <td>True</td>\n",
       "      <td>-6jvfSJGprbfBD2QrS9zQw</td>\n",
       "      <td>34.402538</td>\n",
       "      <td>-119.724894</td>\n",
       "      <td>Mesa Produce</td>\n",
       "      <td>19</td>\n",
       "      <td>5.000000</td>\n",
       "    </tr>\n",
       "    <tr>\n",
       "      <th>62010</th>\n",
       "      <td>1417 San Andres St</td>\n",
       "      <td>True</td>\n",
       "      <td>-ALqLSTzkGDMscHdxA1NgA</td>\n",
       "      <td>34.418221</td>\n",
       "      <td>-119.715795</td>\n",
       "      <td>Su Casa Fresh Mexican Grill</td>\n",
       "      <td>29</td>\n",
       "      <td>4.344828</td>\n",
       "    </tr>\n",
       "    <tr>\n",
       "      <th>134706</th>\n",
       "      <td>1905 Cliff Dr</td>\n",
       "      <td>True</td>\n",
       "      <td>-BdYhP-12elmFV7oB1iv4A</td>\n",
       "      <td>34.401382</td>\n",
       "      <td>-119.722472</td>\n",
       "      <td>Corner Tap Room</td>\n",
       "      <td>41</td>\n",
       "      <td>4.795455</td>\n",
       "    </tr>\n",
       "    <tr>\n",
       "      <th>92579</th>\n",
       "      <td>31 W Carrillo St</td>\n",
       "      <td>True</td>\n",
       "      <td>-FM4CxOg4XXmX_Ebky_SiQ</td>\n",
       "      <td>34.420361</td>\n",
       "      <td>-119.702475</td>\n",
       "      <td>Finch &amp; Fork</td>\n",
       "      <td>1405</td>\n",
       "      <td>4.204324</td>\n",
       "    </tr>\n",
       "  </tbody>\n",
       "</table>\n",
       "</div>"
      ],
      "text/plain": [
       "                   address take_out             business_id   latitude  \\\n",
       "9418         1012 State St     True  -3AooxIkg38UyUdlz5oXdw  34.421931   \n",
       "76606        2036 Cliff Dr     True  -6jvfSJGprbfBD2QrS9zQw  34.402538   \n",
       "62010   1417 San Andres St     True  -ALqLSTzkGDMscHdxA1NgA  34.418221   \n",
       "134706       1905 Cliff Dr     True  -BdYhP-12elmFV7oB1iv4A  34.401382   \n",
       "92579     31 W Carrillo St     True  -FM4CxOg4XXmX_Ebky_SiQ  34.420361   \n",
       "\n",
       "         longitude                         name  review_count     stars  \n",
       "9418   -119.702185             Chase Restaurant           436  3.144144  \n",
       "76606  -119.724894                 Mesa Produce            19  5.000000  \n",
       "62010  -119.715795  Su Casa Fresh Mexican Grill            29  4.344828  \n",
       "134706 -119.722472              Corner Tap Room            41  4.795455  \n",
       "92579  -119.702475                 Finch & Fork          1405  4.204324  "
      ]
     },
     "execution_count": 36,
     "metadata": {},
     "output_type": "execute_result"
    }
   ],
   "source": [
    "bu.head()"
   ]
  },
  {
   "cell_type": "code",
   "execution_count": null,
   "id": "0933d166",
   "metadata": {},
   "outputs": [],
   "source": []
  }
 ],
 "metadata": {
  "kernelspec": {
   "display_name": "Python 3 (ipykernel)",
   "language": "python",
   "name": "python3"
  },
  "language_info": {
   "codemirror_mode": {
    "name": "ipython",
    "version": 3
   },
   "file_extension": ".py",
   "mimetype": "text/x-python",
   "name": "python",
   "nbconvert_exporter": "python",
   "pygments_lexer": "ipython3",
   "version": "3.9.15"
  }
 },
 "nbformat": 4,
 "nbformat_minor": 5
}
